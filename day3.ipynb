{
 "cells": [
  {
   "cell_type": "code",
   "execution_count": 67,
   "id": "eefefe09",
   "metadata": {},
   "outputs": [],
   "source": [
    "# import library\n",
    "from tkinter import*\n",
    "from tkinter import ttk\n",
    "window = Tk()\n",
    "window.title (\"registration screen\")\n",
    "window.geometry (\"300x300\")\n",
    "window.configure (background = \"red\");\n",
    "FirstName = Label(window,text = \"first name\").grid(row = 0,column = 0)\n",
    "LastName = Label(window,text = \"last name\").grid(row = 1,column = 0)\n",
    "Age = Label(window,text =\"age\").grid(row = 2,column = 0)\n",
    "Email = Label(window,text = \"email\").grid(row = 3,column = 0)\n",
    "Adress = Label(window,text = \"adress\").grid(row = 4,column = 0)\n",
    "Mobile = Label(window,text =\"contact number\").grid(row = 5,column = 0)\n",
    "\n",
    "FirstName1 = Entry(window).grid(row = 0,column = 0)\n",
    "LastName1 = Entry(window).grid(row = 1,column = 0)\n",
    "Age1 = Entry(window).grid(row = 2,column = 0)\n",
    "Email1 = Entry(window).grid(row = 3,column = 0)\n",
    "Adress1 = Entry(window).grid(row = 4,column = 0)\n",
    "Mobile1 = Entry(window).grid(row = 5,column = 0)\n",
    "\n",
    "\n",
    "def clicked():\n",
    "    res =\"Welcome to\" + text.get()\n",
    "    lbl.configure(text = res)\n",
    "    btn = ttk.Button(window ,text=\"Submit\").grid(row=4,column=0)\n",
    "    window.mainloop()\n"
   ]
  },
  {
   "cell_type": "code",
   "execution_count": 61,
   "id": "5ace226c",
   "metadata": {},
   "outputs": [],
   "source": [
    "window = Tk()"
   ]
  }
 ],
 "metadata": {
  "kernelspec": {
   "display_name": "Python 3",
   "language": "python",
   "name": "python3"
  },
  "language_info": {
   "codemirror_mode": {
    "name": "ipython",
    "version": 3
   },
   "file_extension": ".py",
   "mimetype": "text/x-python",
   "name": "python",
   "nbconvert_exporter": "python",
   "pygments_lexer": "ipython3",
   "version": "3.6.7"
  }
 },
 "nbformat": 4,
 "nbformat_minor": 5
}
