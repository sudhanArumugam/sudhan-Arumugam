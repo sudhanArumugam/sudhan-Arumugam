{
 "cells": [
  {
   "cell_type": "code",
   "execution_count": 17,
   "id": "a731980b",
   "metadata": {},
   "outputs": [
    {
     "ename": "SyntaxError",
     "evalue": "invalid syntax (<ipython-input-17-102f4f2ae543>, line 3)",
     "output_type": "error",
     "traceback": [
      "\u001b[0;36m  File \u001b[0;32m\"<ipython-input-17-102f4f2ae543>\"\u001b[0;36m, line \u001b[0;32m3\u001b[0m\n\u001b[0;31m    WindowColor = background \"green\"\u001b[0m\n\u001b[0m                                   ^\u001b[0m\n\u001b[0;31mSyntaxError\u001b[0m\u001b[0;31m:\u001b[0m invalid syntax\n"
     ]
    }
   ],
   "source": [
    "WindowTitle = \"Registration Screen\"\n",
    "WindowSize = \"300*300\"\n",
    "WindowColor = background \"green\"\n",
    "text \"first Name\" row 0 column 0\n",
    "text \"Last Name\" row 1 column 0\n",
    "text \"Emai lId\" row 2 column 0\n",
    "text \"contact Number\" row 3 column \n",
    "\n",
    "def\n",
    "\"welcome to\"\n",
    "text\n",
    "text \"submit\" row 4 column 0"
   ]
  },
  {
   "cell_type": "code",
   "execution_count": null,
   "id": "230e7f05",
   "metadata": {},
   "outputs": [],
   "source": []
  }
 ],
 "metadata": {
  "kernelspec": {
   "display_name": "Python 3",
   "language": "python",
   "name": "python3"
  },
  "language_info": {
   "codemirror_mode": {
    "name": "ipython",
    "version": 3
   },
   "file_extension": ".py",
   "mimetype": "text/x-python",
   "name": "python",
   "nbconvert_exporter": "python",
   "pygments_lexer": "ipython3",
   "version": "3.6.7"
  }
 },
 "nbformat": 4,
 "nbformat_minor": 5
}
