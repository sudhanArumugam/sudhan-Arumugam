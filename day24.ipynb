{
 "cells": [
  {
   "cell_type": "code",
   "execution_count": 7,
   "id": "1b1364ce",
   "metadata": {},
   "outputs": [],
   "source": [
    "import jsons"
   ]
  },
  {
   "cell_type": "code",
   "execution_count": 8,
   "id": "baef171d",
   "metadata": {},
   "outputs": [],
   "source": [
    "jsons_data=[\n",
    "    {'name':\"Dhivya\",'age':21,'Permanent_staff':True,'salary':75000.00,'dept_desgn':'Developer'},\n",
    "     {'name':\"Renu\",'age':35,'Permanent_staff':False,'salary':56000.00,'dept_desgn':\"ML Engineer\"},\n",
    "     {'name':\"Manu\",'age':34,'Permanent_staff':True,'salary':78000.00,'dept_desgn':'Web Designer'},\n",
    "     {'name':\"Shardha\",'age':23,'Permanent_staff':True,'salary':45000.00,'dept_desgn':'Data Scientist'},\n",
    "     {'name':\"Kumar\",'age':21,'Permanent_staff':True,'salary':67000.00,'dept_desgn':'Manager'}\n",
    "    \n",
    "]"
   ]
  },
  {
   "cell_type": "raw",
   "id": "67744641",
   "metadata": {},
   "source": [
    "res =jsons.dumps(jsons_data)"
   ]
  },
  {
   "cell_type": "code",
   "execution_count": 10,
   "id": "617d8cda",
   "metadata": {},
   "outputs": [],
   "source": [
    "import mysql.connector"
   ]
  },
  {
   "cell_type": "code",
   "execution_count": null,
   "id": "5934dc08",
   "metadata": {},
   "outputs": [],
   "source": [
    "mydb = mysql.connector.connect(\n",
    "  host=\"localhost\",\n",
    "  user=\"root\",\n",
    "  password=\"1234\"\n",
    ")"
   ]
  },
  {
   "cell_type": "code",
   "execution_count": null,
   "id": "02cccf46",
   "metadata": {},
   "outputs": [],
   "source": [
    "print(mydb)"
   ]
  },
  {
   "cell_type": "code",
   "execution_count": null,
   "id": "e6135128",
   "metadata": {},
   "outputs": [],
   "source": [
    "dbse = mydb.cursor()\n",
    "\n",
    "dbse.execute(\"CREATE DATABASE JSONRECORDS1\")"
   ]
  },
  {
   "cell_type": "code",
   "execution_count": null,
   "id": "138c67ff",
   "metadata": {},
   "outputs": [],
   "source": [
    "dbse = mydb.cursor()\n",
    "\n",
    "dbse.execute(\"SHOW DATABASES\")\n",
    "\n",
    "for entry in dbse:\n",
    "  print(entry)"
   ]
  },
  {
   "cell_type": "code",
   "execution_count": null,
   "id": "604b900f",
   "metadata": {},
   "outputs": [],
   "source": [
    "mydb = mysql.connector.connect(\n",
    "  host=\"localhost\",\n",
    " user=\"root\",\n",
    "  password=\"1234\",\n",
    "  database=\"jsonrecords1\"\n",
    ")\n",
    "dbse = mydb.cursor()\n",
    "\n",
    "dbse.execute(\"CREATE TABLE employee (name VARCHAR(255),age INT, permanent_staff VARCHAR(255), salary DOUBLE, dept_and_designation VARCHAR(255))\")\n",
    "In [26]:\n",
    "dbse = mydb.cursor()\n",
    "\n",
    "dbse.execute(\"SHOW TABLES\")\n",
    "\n",
    "for value in dbse:\n",
    "  print(value)\n",
    "('employee',)\n",
    "In [27]:\n",
    "dbse = mydb.cursor()\n",
    "\n",
    "dbse.execute(\"SHOW COLUMNS FROM employee\")\n",
    "\n",
    "for value in dbse:\n",
    "  print(value)"
   ]
  },
  {
   "cell_type": "code",
   "execution_count": null,
   "id": "aca836c8",
   "metadata": {},
   "outputs": [],
   "source": [
    "dbse = mydb.cursor()\n",
    "sql = \"INSERT INTO employee (name ,age, permanent_staff,salary,dept_designation) VALUES (%s)\"\n",
    "value= list(for i in res: res[i])\n",
    "                         \n",
    "dbse.execute( sql, value))"
   ]
  }
 ],
 "metadata": {
  "kernelspec": {
   "display_name": "Python 3",
   "language": "python",
   "name": "python3"
  },
  "language_info": {
   "codemirror_mode": {
    "name": "ipython",
    "version": 3
   },
   "file_extension": ".py",
   "mimetype": "text/x-python",
   "name": "python",
   "nbconvert_exporter": "python",
   "pygments_lexer": "ipython3",
   "version": "3.6.7"
  }
 },
 "nbformat": 4,
 "nbformat_minor": 5
}
