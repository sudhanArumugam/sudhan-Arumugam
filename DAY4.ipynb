{
 "cells": [
  {
   "cell_type": "code",
   "execution_count": 45,
   "id": "51148af5",
   "metadata": {},
   "outputs": [
    {
     "name": "stdout",
     "output_type": "stream",
     "text": [
      "divided by 10: 5.0\n",
      "multiply by 50: 2500\n",
      "add c value by 60: 110\n"
     ]
    }
   ],
   "source": [
    "A=B=C=50\n",
    "x=A/10\n",
    "y=B*50\n",
    "z=C+60\n",
    "print(f'divided by 10: {x}')\n",
    "print(f'multiply by 50: {y}')\n",
    "print(f'add c value by 60: {z}')"
   ]
  },
  {
   "cell_type": "code",
   "execution_count": 46,
   "id": "a7048735",
   "metadata": {},
   "outputs": [
    {
     "name": "stdout",
     "output_type": "stream",
     "text": [
      "dhoni sushant Great malayalam python\n"
     ]
    }
   ],
   "source": [
    "A=\"dhoni\"\n",
    "B=\"sushant\"\n",
    "C=\"dreat\"\n",
    "D=\"malayalam\"\n",
    "E=\"python\"\n",
    "C=C.replace(\"d\",\"G\")\n",
    "print(A,B,C,D,E)\n",
    "\n",
    "\n",
    "\n",
    "\n"
   ]
  },
  {
   "cell_type": "code",
   "execution_count": 63,
   "id": "f9f198d2",
   "metadata": {},
   "outputs": [
    {
     "name": "stdout",
     "output_type": "stream",
     "text": [
      "Data type of A: <class 'float'>\n",
      "Data type of B: <class 'int'>\n"
     ]
    }
   ],
   "source": [
    "A=B=15,10.15\n",
    "B=int()\n",
    "A=float()\n",
    "print('Data type of A:',type(A))\n",
    "print('Data type of B:',type(B))\n",
    "\n"
   ]
  },
  {
   "cell_type": "code",
   "execution_count": null,
   "id": "feb8af6f",
   "metadata": {},
   "outputs": [],
   "source": []
  }
 ],
 "metadata": {
  "kernelspec": {
   "display_name": "Python 3",
   "language": "python",
   "name": "python3"
  },
  "language_info": {
   "codemirror_mode": {
    "name": "ipython",
    "version": 3
   },
   "file_extension": ".py",
   "mimetype": "text/x-python",
   "name": "python",
   "nbconvert_exporter": "python",
   "pygments_lexer": "ipython3",
   "version": "3.6.7"
  }
 },
 "nbformat": 4,
 "nbformat_minor": 5
}
