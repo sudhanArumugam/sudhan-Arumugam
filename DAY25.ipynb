{
 "cells": [
  {
   "cell_type": "code",
   "execution_count": 6,
   "id": "6b6328c1",
   "metadata": {},
   "outputs": [
    {
     "name": "stdout",
     "output_type": "stream",
     "text": [
      "2001-10-15 00:00:00\n"
     ]
    }
   ],
   "source": [
    "from datetime import datetime,date,timedelta\n",
    "date_object = datetime.strptime('oct 15 2001 12:00Am','%b %d %Y %I:%M%p')\n",
    "print(date_object)"
   ]
  },
  {
   "cell_type": "code",
   "execution_count": 10,
   "id": "ec5a5981",
   "metadata": {},
   "outputs": [
    {
     "name": "stdout",
     "output_type": "stream",
     "text": [
      "today date: 2021-07-09\n",
      "10 days before todays date: 2021-06-29\n"
     ]
    }
   ],
   "source": [
    "from datetime import date,timedelta\n",
    "dt = date.today() -timedelta(10)\n",
    "print('today date:',date.today())\n",
    "print('10 days before todays date:',dt)"
   ]
  },
  {
   "cell_type": "code",
   "execution_count": 12,
   "id": "1e6d7be5",
   "metadata": {},
   "outputs": [
    {
     "name": "stdout",
     "output_type": "stream",
     "text": [
      "2021-07-09 18:20:54.010437\n",
      "2021-07-10 18:20:54.010437\n",
      "2021-07-11 18:20:54.010437\n",
      "2021-07-12 18:20:54.010437\n",
      "2021-07-13 18:20:54.010437\n"
     ]
    }
   ],
   "source": [
    "import datetime\n",
    "by = datetime.datetime.today()\n",
    "for x in range(0,5):\n",
    "    print(by + datetime.timedelta(days=x))"
   ]
  },
  {
   "cell_type": "code",
   "execution_count": 19,
   "id": "77376522",
   "metadata": {},
   "outputs": [
    {
     "name": "stdout",
     "output_type": "stream",
     "text": [
      "2021-07-09 00:00:00\n"
     ]
    }
   ],
   "source": [
    "from datetime import date\n",
    "from datetime import datetime\n",
    "dt=date.today()\n",
    "print(datetime.combine(dt,datetime.min.time()))"
   ]
  }
 ],
 "metadata": {
  "kernelspec": {
   "display_name": "Python 3",
   "language": "python",
   "name": "python3"
  },
  "language_info": {
   "codemirror_mode": {
    "name": "ipython",
    "version": 3
   },
   "file_extension": ".py",
   "mimetype": "text/x-python",
   "name": "python",
   "nbconvert_exporter": "python",
   "pygments_lexer": "ipython3",
   "version": "3.6.7"
  }
 },
 "nbformat": 4,
 "nbformat_minor": 5
}
