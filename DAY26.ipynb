{
 "cells": [
  {
   "cell_type": "code",
   "execution_count": 2,
   "id": "a9fa8132",
   "metadata": {},
   "outputs": [
    {
     "name": "stdout",
     "output_type": "stream",
     "text": [
      "['hi', 'hello', 'have a great day', 'keep it up']\n",
      "enumerate list: <class 'enumerate'>\n",
      "count value with list value\n",
      "(0, (0, 'hi'))\n",
      "(1, (1, 'hello'))\n",
      "(2, (2, 'have a great day'))\n",
      "(3, (3, 'keep it up'))\n"
     ]
    }
   ],
   "source": [
    "S1 =['hi','hello','have a great day','keep it up']\n",
    "list1=enumerate(S1)\n",
    "print(S1)\n",
    "print(\"enumerate list:\",type(list1))\n",
    "print(\"count value with list value\")\n",
    "for obj in enumerate(list1):\n",
    "    print(obj)"
   ]
  },
  {
   "cell_type": "code",
   "execution_count": 3,
   "id": "5d546ff1",
   "metadata": {},
   "outputs": [
    {
     "name": "stdout",
     "output_type": "stream",
     "text": [
      "count the value of S1:\n",
      "(0, 'welcome,take care')\n",
      "(1, 'always be happy')\n",
      "(2, 'may god bless you')\n"
     ]
    }
   ],
   "source": [
    "S2 = ('welcome'',take care','always be happy','may god bless you')\n",
    "list2 =enumerate(S2)\n",
    "print(\"count the value of S1:\")\n",
    "for love in list2:\n",
    "    print(love)"
   ]
  }
 ],
 "metadata": {
  "kernelspec": {
   "display_name": "Python 3",
   "language": "python",
   "name": "python3"
  },
  "language_info": {
   "codemirror_mode": {
    "name": "ipython",
    "version": 3
   },
   "file_extension": ".py",
   "mimetype": "text/x-python",
   "name": "python",
   "nbconvert_exporter": "python",
   "pygments_lexer": "ipython3",
   "version": "3.6.7"
  }
 },
 "nbformat": 4,
 "nbformat_minor": 5
}
