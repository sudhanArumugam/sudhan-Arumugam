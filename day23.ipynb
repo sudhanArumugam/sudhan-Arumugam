{
 "cells": [
  {
   "cell_type": "code",
   "execution_count": 4,
   "id": "7dc9a1cc",
   "metadata": {},
   "outputs": [
    {
     "name": "stdout",
     "output_type": "stream",
     "text": [
      "Requirement already satisfied: pillow in /Library/Frameworks/Python.framework/Versions/3.6/lib/python3.6/site-packages (8.3.0)\n",
      "Note: you may need to restart the kernel to use updated packages.\n"
     ]
    }
   ],
   "source": [
    "pip install pillow"
   ]
  },
  {
   "cell_type": "code",
   "execution_count": null,
   "id": "a04a61d9",
   "metadata": {},
   "outputs": [],
   "source": []
  },
  {
   "cell_type": "code",
   "execution_count": null,
   "id": "0fed9451",
   "metadata": {},
   "outputs": [],
   "source": [
    "from tkinter import *\n",
    "from tkinter import filedialog as fd\n",
    "import os\n",
    "from PIL import Image\n",
    "\n",
    "\n",
    "root=Tk()\n",
    "root.geometry(\"400x400\")\n",
    "root.title(\"Image_Conversion_App\")\n",
    "\n",
    "\n",
    "def jpg_to_png():\n",
    "    filename=fd.askopenfilename()\n",
    "    if filename.endswith(\".jpg\"):\n",
    "        Image.open(filename).save(\"sample1.png\")\n",
    "    else:\n",
    "        Label_2=Label(root,text=\"Error!\", width=20,fg=\"red\", font=(\"bold\",15))\n",
    "        Label_2.place(x=80,y=280)\n",
    "\n",
    "def jpg_to_pdf():\n",
    "    filename=fd.askopenfilename()\n",
    "    if filename.endswith(\".jpg\"):\n",
    "        Image.open(filename).save(\"sample1.pdf\", resolution=100.0)\n",
    "    else:\n",
    "        Label_2=Label(root,text=\"Error!\", width=20,fg=\"red\", font=(\"bold\",15))\n",
    "        Label_2.place(x=80,y=280)\n",
    "\n",
    "Label_1=Label(root,text=\"Browse A File\", width=20, font=(\"bold\",15))\n",
    "Label_1.place(x=80,y=80)\n",
    "\n",
    "Label_3=Label(root,width=80, font=(\"bold\",8))\n",
    "Label_3.place(x=10,y=365)\n",
    "\n",
    "\n",
    "\n",
    "\n",
    "Button(root,text=\"JPG_to_PNG\", width=20, height=2, bg=\"brown\",fg=\"white\",command=jpg_to_png).place(x=120,y=120)\n",
    "Button(root,text=\"JPG_to_PDF\", width=20, height=2, bg=\"brown\",fg=\"white\", command=jpg_to_pdf).place(x=120,y=220)\n",
    "\n",
    "root.mainloop()"
   ]
  },
  {
   "cell_type": "code",
   "execution_count": null,
   "id": "a29d1902",
   "metadata": {},
   "outputs": [],
   "source": []
  }
 ],
 "metadata": {
  "kernelspec": {
   "display_name": "Python 3",
   "language": "python",
   "name": "python3"
  },
  "language_info": {
   "codemirror_mode": {
    "name": "ipython",
    "version": 3
   },
   "file_extension": ".py",
   "mimetype": "text/x-python",
   "name": "python",
   "nbconvert_exporter": "python",
   "pygments_lexer": "ipython3",
   "version": "3.6.7"
  }
 },
 "nbformat": 4,
 "nbformat_minor": 5
}
