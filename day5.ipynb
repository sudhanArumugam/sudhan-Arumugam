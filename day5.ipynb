{
 "cells": [
  {
   "cell_type": "code",
   "execution_count": 47,
   "id": "2f8446eb",
   "metadata": {},
   "outputs": [
    {
     "name": "stdout",
     "output_type": "stream",
     "text": [
      "[20, 30, 40, 50, 1]\n",
      "Add Iteam in a list: [20, 30, 40, 50, 1, 45]\n",
      "delete iteam in a list: [20, 30, 40, 50, 45]\n",
      "smallest element is: 20\n",
      "largest element is: 50\n"
     ]
    }
   ],
   "source": [
    "mylist=[20,30,40,50,1]\n",
    "print(mylist)\n",
    "mylist.append(45)\n",
    "print(\"Add Iteam in a list:\",mylist)\n",
    "item=mylist.pop(4)\n",
    "print(\"delete iteam in a list:\",mylist)\n",
    "print(\"smallest element is:\",min(mylist))\n",
    "print(\"largest element is:\",max(mylist))\n",
    "\n",
    "\n",
    "\n"
   ]
  },
  {
   "cell_type": "code",
   "execution_count": 52,
   "id": "250a3b7a",
   "metadata": {},
   "outputs": [
    {
     "name": "stdout",
     "output_type": "stream",
     "text": [
      "reverse of the tuple: (6, 5, 4, 3, 2, 1)\n"
     ]
    }
   ],
   "source": [
    "mytuple=(1,2,3,4,5,6)\n",
    "X=reversed(mytuple)\n",
    "print(\"reverse of the tuple:\",tuple(X))\n"
   ]
  },
  {
   "cell_type": "code",
   "execution_count": 54,
   "id": "01dd4e5b",
   "metadata": {},
   "outputs": [
    {
     "name": "stdout",
     "output_type": "stream",
     "text": [
      "covert tuple into list: ['hi', 25, 40]\n"
     ]
    }
   ],
   "source": [
    "mytuple=('hi',25,40)\n",
    "print(\"covert tuple into list:\",list(mytuple))"
   ]
  }
 ],
 "metadata": {
  "kernelspec": {
   "display_name": "Python 3",
   "language": "python",
   "name": "python3"
  },
  "language_info": {
   "codemirror_mode": {
    "name": "ipython",
    "version": 3
   },
   "file_extension": ".py",
   "mimetype": "text/x-python",
   "name": "python",
   "nbconvert_exporter": "python",
   "pygments_lexer": "ipython3",
   "version": "3.6.7"
  }
 },
 "nbformat": 4,
 "nbformat_minor": 5
}
