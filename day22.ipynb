{
 "cells": [
  {
   "cell_type": "code",
   "execution_count": 57,
   "id": "6493c591",
   "metadata": {},
   "outputs": [
    {
     "data": {
      "text/html": [
       "<img src=\"https://wallpaperaccess.com/spider-man-gamehttps://wallpaperaccess.com/download/spider-man-game-1518746\" width=\"3840\" height=\"2160\"/>"
      ],
      "text/plain": [
       "<IPython.core.display.Image object>"
      ]
     },
     "execution_count": 57,
     "metadata": {},
     "output_type": "execute_result"
    }
   ],
   "source": [
    "from IPython.display import Image\n",
    "Image(url= \"https://wallpaperaccess.com/spider-man-gamehttps://wallpaperaccess.com/download/spider-man-game-1518746\", width=3840, height=2160)"
   ]
  },
  {
   "cell_type": "code",
   "execution_count": 60,
   "id": "2e1e28b9",
   "metadata": {},
   "outputs": [
    {
     "ename": "FileNotFoundError",
     "evalue": "[Errno 2] No such file or directory: 'Android Lab Experiment.pdf'",
     "output_type": "error",
     "traceback": [
      "\u001b[0;31m---------------------------------------------------------------------------\u001b[0m",
      "\u001b[0;31mFileNotFoundError\u001b[0m                         Traceback (most recent call last)",
      "\u001b[0;32m<ipython-input-60-d87a8c53117c>\u001b[0m in \u001b[0;36m<module>\u001b[0;34m\u001b[0m\n\u001b[1;32m      1\u001b[0m \u001b[0;32mimport\u001b[0m \u001b[0mPyPDF2\u001b[0m\u001b[0;34m\u001b[0m\u001b[0;34m\u001b[0m\u001b[0m\n\u001b[1;32m      2\u001b[0m \u001b[0;34m\u001b[0m\u001b[0m\n\u001b[0;32m----> 3\u001b[0;31m \u001b[0mpdf1File\u001b[0m \u001b[0;34m=\u001b[0m \u001b[0mopen\u001b[0m\u001b[0;34m(\u001b[0m\u001b[0;34m'Android Lab Experiment.pdf'\u001b[0m\u001b[0;34m,\u001b[0m \u001b[0;34m'rb'\u001b[0m\u001b[0;34m)\u001b[0m\u001b[0;34m\u001b[0m\u001b[0;34m\u001b[0m\u001b[0m\n\u001b[0m\u001b[1;32m      4\u001b[0m \u001b[0mpdf2File\u001b[0m \u001b[0;34m=\u001b[0m \u001b[0mopen\u001b[0m\u001b[0;34m(\u001b[0m\u001b[0;34m'Python Cheatsheet.pdf'\u001b[0m\u001b[0;34m,\u001b[0m \u001b[0;34m'rb'\u001b[0m\u001b[0;34m)\u001b[0m\u001b[0;34m\u001b[0m\u001b[0;34m\u001b[0m\u001b[0m\n\u001b[1;32m      5\u001b[0m \u001b[0;34m\u001b[0m\u001b[0m\n",
      "\u001b[0;31mFileNotFoundError\u001b[0m: [Errno 2] No such file or directory: 'Android Lab Experiment.pdf'"
     ]
    }
   ],
   "source": [
    "import PyPDF2 \n",
    " \n",
    "pdf1File = open('Android Lab Experiment.pdf', 'rb')\n",
    "pdf2File = open('Python Cheatsheet.pdf', 'rb')\n",
    " \n",
    "pdf1Reader = PyPDF2.PdfFileReader(pdf1File)\n",
    "pdf2Reader = PyPDF2.PdfFileReader(pdf2File)\n",
    "\n",
    "pdfWriter = PyPDF2.PdfFileWriter()\n",
    " \n",
    "\n",
    "for pageNum in range(pdf1Reader.numPages):\n",
    "    pageObj = pdf1Reader.getPage(pageNum)\n",
    "    pdfWriter.addPage(pageObj)\n",
    "\n",
    "for pageNum in range(pdf2Reader.numPages):\n",
    "    pageObj = pdf2Reader.getPage(pageNum)\n",
    "    pdfWriter.addPage(pageObj)\n",
    " \n",
    "\n",
    "pdfOutputFile = open('MergedFiles.pdf', 'wb')\n",
    "pdfWriter.write(pdfOutputFile)\n",
    "\n",
    "pdfOutputFile.close()\n",
    "pdf1File.close()\n",
    "pdf2File.close()"
   ]
  },
  {
   "cell_type": "code",
   "execution_count": null,
   "id": "dfb16b60",
   "metadata": {},
   "outputs": [],
   "source": [
    "import mysql.connector\n",
    "mydb = mysql.connector.connect(\n",
    "  host=\"localhost\",\n",
    "  user=\"root\",\n",
    "  password=\"1234\"\n",
    "\n",
    ")"
   ]
  },
  {
   "cell_type": "code",
   "execution_count": null,
   "id": "b082fe06",
   "metadata": {},
   "outputs": [],
   "source": [
    "mydb = mysql.connector.connect(\n",
    "  host=\"localhost\",\n",
    " user=\"root\",\n",
    "  password=\"1234\",\n",
    "  database=\"Doctors1\"\n",
    ")\n",
    "dbse = mydb.cursor()"
   ]
  },
  {
   "cell_type": "code",
   "execution_count": null,
   "id": "7b85d0a6",
   "metadata": {},
   "outputs": [],
   "source": [
    "url_to_scrape = 'https://news.ycombinator.com/news'\n",
    "plain_html_text = requests.get(url_to_scrape)\n",
    "soup = BeautifulSoup(plain_html_text.text, \"html.parser\")\n"
   ]
  },
  {
   "cell_type": "code",
   "execution_count": null,
   "id": "6b2a203d",
   "metadata": {},
   "outputs": [],
   "source": [
    "\n",
    "print(soup.prettify())"
   ]
  }
 ],
 "metadata": {
  "kernelspec": {
   "display_name": "Python 3",
   "language": "python",
   "name": "python3"
  },
  "language_info": {
   "codemirror_mode": {
    "name": "ipython",
    "version": 3
   },
   "file_extension": ".py",
   "mimetype": "text/x-python",
   "name": "python",
   "nbconvert_exporter": "python",
   "pygments_lexer": "ipython3",
   "version": "3.6.7"
  }
 },
 "nbformat": 4,
 "nbformat_minor": 5
}
