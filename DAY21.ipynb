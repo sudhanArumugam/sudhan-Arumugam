{
 "cells": [
  {
   "cell_type": "code",
   "execution_count": 2,
   "id": "f916f1ba",
   "metadata": {},
   "outputs": [
    {
     "name": "stdout",
     "output_type": "stream",
     "text": [
      "<zip object at 0x10ed3b7c8>\n"
     ]
    }
   ],
   "source": [
    "A=(\"sudhan\",\"anil\",\"harry\")\n",
    "B=(\"nithin\",\"gokul\",\"logith\",\"kishore\")\n",
    "C=zip(A,B)\n",
    "print(C)"
   ]
  },
  {
   "cell_type": "code",
   "execution_count": 3,
   "id": "8baf45b0",
   "metadata": {},
   "outputs": [
    {
     "data": {
      "text/plain": [
       "[('sudhan', 'nithin'), ('anil', 'gokul'), ('harry', 'logith')]"
      ]
     },
     "execution_count": 3,
     "metadata": {},
     "output_type": "execute_result"
    }
   ],
   "source": [
    "list(C)"
   ]
  },
  {
   "cell_type": "code",
   "execution_count": 4,
   "id": "4919dd00",
   "metadata": {},
   "outputs": [
    {
     "data": {
      "text/plain": [
       "((1, 5), (2, 10), (3, 15), (4, 20), (5, 25), (6, 30), (7, 35))"
      ]
     },
     "execution_count": 4,
     "metadata": {},
     "output_type": "execute_result"
    }
   ],
   "source": [
    "A=range(1,8)\n",
    "B=[5,10,15,20,25,30,35,40]\n",
    "C=zip(A,B)\n",
    "tuple(C)\n"
   ]
  },
  {
   "cell_type": "code",
   "execution_count": 5,
   "id": "1a55748e",
   "metadata": {},
   "outputs": [
    {
     "name": "stdout",
     "output_type": "stream",
     "text": [
      "[0, 1, 2, 3, 4, 5, 6, 7, 8, 9]\n"
     ]
    }
   ],
   "source": [
    "A=[2,4,5,0,8,1,3,6,7,9]\n",
    "A=sorted(A)\n",
    "print(A)"
   ]
  },
  {
   "cell_type": "code",
   "execution_count": 14,
   "id": "e94cc7b1",
   "metadata": {},
   "outputs": [
    {
     "name": "stdout",
     "output_type": "stream",
     "text": [
      "[2, 4, 6, 8]\n"
     ]
    }
   ],
   "source": [
    "A=[1, 2, 3, 4, 5, 6, 7, 8, 9]\n",
    "def even(X):\n",
    "    if X%2==0:\n",
    "        return True\n",
    "    else:\n",
    "        return False\n",
    "evennumber=list(filter(even,A))\n",
    "print(evennumber)\n"
   ]
  },
  {
   "cell_type": "code",
   "execution_count": 16,
   "id": "be79ca7b",
   "metadata": {},
   "outputs": [
    {
     "name": "stdout",
     "output_type": "stream",
     "text": [
      "[1, 3, 5, 7, 9]\n"
     ]
    }
   ],
   "source": [
    "oddnumber=[]\n",
    "for i in A:\n",
    "    if i not in evennumber:\n",
    "        oddnumber.append(i)\n",
    "print(oddnumber)"
   ]
  },
  {
   "cell_type": "code",
   "execution_count": 20,
   "id": "242562cc",
   "metadata": {},
   "outputs": [
    {
     "name": "stdout",
     "output_type": "stream",
     "text": [
      "[1, 3, 5, 7, 9]\n"
     ]
    }
   ],
   "source": [
    "b=[]\n",
    "for i in A:\n",
    "    if i%2!=0:\n",
    "        b.append(i)\n",
    "print(b)"
   ]
  }
 ],
 "metadata": {
  "kernelspec": {
   "display_name": "Python 3",
   "language": "python",
   "name": "python3"
  },
  "language_info": {
   "codemirror_mode": {
    "name": "ipython",
    "version": 3
   },
   "file_extension": ".py",
   "mimetype": "text/x-python",
   "name": "python",
   "nbconvert_exporter": "python",
   "pygments_lexer": "ipython3",
   "version": "3.6.7"
  }
 },
 "nbformat": 4,
 "nbformat_minor": 5
}
