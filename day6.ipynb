{
 "cells": [
  {
   "cell_type": "code",
   "execution_count": 19,
   "id": "6f7c2bd6",
   "metadata": {},
   "outputs": [
    {
     "name": "stdout",
     "output_type": "stream",
     "text": [
      "before merge two dictionaries {'tamilnadu': 'chennai', 'bihar': 'patna', 'karnataka': 'bengaluru'}\n",
      "after merge two dictionaries: {'tamilnadu': 'chennai', 'bihar': 'patna', 'karnataka': 'bengaluru', 'goa': 'panaji', 'telangana': 'hyderabad'}\n"
     ]
    }
   ],
   "source": [
    "capital={\"tamilnadu\":\"chennai\",\"bihar\":\"patna\",\"karnataka\":\"bengaluru\"}\n",
    "print(f'before merge two dictionaries',capital )\n",
    "capital[\"goa\"]=\"panaji\"\n",
    "capital[\"telangana\"]=\"hyderabad\"\n",
    "print(f'after merge two dictionaries:',capital)"
   ]
  },
  {
   "cell_type": "code",
   "execution_count": 17,
   "id": "f18f0487",
   "metadata": {},
   "outputs": [
    {
     "name": "stdout",
     "output_type": "stream",
     "text": [
      "After removing key from dicitionary: {'tamilnadu': 'chennai', 'bihar': 'patna'}\n"
     ]
    }
   ],
   "source": [
    "capital={\"tamilnadu\":\"chennai\",\"bihar\":\"patna\",\"karnataka\":\"bengaluru\"}\n",
    "del capital [\"karnataka\"]\n",
    "print(f'After removing key from dicitionary:',capital)"
   ]
  },
  {
   "cell_type": "code",
   "execution_count": 41,
   "id": "e2b93089",
   "metadata": {},
   "outputs": [
    {
     "name": "stdout",
     "output_type": "stream",
     "text": [
      "{'sudhan', 'peter', 'natasha', 'nelson', 'suman', 'harry'}\n"
     ]
    }
   ],
   "source": [
    "Keys = {'sudhan','nelson','natasha','peter'}\n",
    "value ={'suman','harry'}\n",
    "Keys.update(value)\n",
    "print(Keys)\n",
    "      "
   ]
  },
  {
   "cell_type": "code",
   "execution_count": 39,
   "id": "00b4f88e",
   "metadata": {},
   "outputs": [
    {
     "data": {
      "text/plain": [
       "4"
      ]
     },
     "execution_count": 39,
     "metadata": {},
     "output_type": "execute_result"
    }
   ],
   "source": [
    "my_set=set(['hi','hello',3,5])\n",
    "len(my_set)"
   ]
  },
  {
   "cell_type": "code",
   "execution_count": 137,
   "id": "b85d62db",
   "metadata": {},
   "outputs": [
    {
     "name": "stdout",
     "output_type": "stream",
     "text": [
      "orginal set: {'dhoni', 'bravo', 'jedeja', 'raina', 'sam'}\n",
      "remove intersection of 2nd {'dhoni', 'jedeja', 'bravo'}\n"
     ]
    }
   ],
   "source": [
    "csk1 = {\"dhoni\",\"bravo\",\"jedeja\"}\n",
    "csk2 = {\"raina\",\"sam\"}\n",
    "csk1.update(csk2)\n",
    "print(\"orginal set:\",csk1)\n",
    "csk1 = {\"dhoni\",\"bravo\",\"jedeja\"}\n",
    "csk2 = {\"raina\",\"sam\"}\n",
    "csk1.discard(csk2)\n",
    "print(\"remove intersection of 2nd\",csk1)\n"
   ]
  }
 ],
 "metadata": {
  "kernelspec": {
   "display_name": "Python 3",
   "language": "python",
   "name": "python3"
  },
  "language_info": {
   "codemirror_mode": {
    "name": "ipython",
    "version": 3
   },
   "file_extension": ".py",
   "mimetype": "text/x-python",
   "name": "python",
   "nbconvert_exporter": "python",
   "pygments_lexer": "ipython3",
   "version": "3.6.7"
  }
 },
 "nbformat": 4,
 "nbformat_minor": 5
}
