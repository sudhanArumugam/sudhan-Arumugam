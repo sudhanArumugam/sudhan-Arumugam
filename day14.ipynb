{
 "cells": [
  {
   "cell_type": "code",
   "execution_count": 3,
   "id": "6ed94ec2",
   "metadata": {},
   "outputs": [
    {
     "name": "stdout",
     "output_type": "stream",
     "text": [
      "select the operator\n",
      "1.additon\n",
      " 2.subtraction\n",
      " 3.multiplication\n",
      " 4.division\n",
      "\n",
      "select among [1,2,3,4] for required operation\n",
      "enter number between [1,2,3,4] only to run operator40\n",
      "enter valid number between [1,2,3,4] only\n",
      "enter number between [1,2,3,4] only to run operator3\n",
      "enter first number3\n",
      "enter first number3\n",
      "3 * 3 = 9\n",
      "process completed thanks for using our calculator\n"
     ]
    }
   ],
   "source": [
    "def add(x,y):\n",
    "    return x+y\n",
    "def sub(x,y):\n",
    "    return x-y\n",
    "def mul(x,y):\n",
    "    return x*y\n",
    "def div(x,y):\n",
    "    return x/y\n",
    "print(\"select the operator\")\n",
    "print(\n",
    "    \"1.additon\\n\",\n",
    "    \"2.subtraction\\n\",\n",
    "    \"3.multiplication\\n\",\n",
    "    \"4.division\\n\"\n",
    "    )\n",
    "print(\"select among [1,2,3,4] for required operation\")\n",
    "choice = int(input(\"enter number between [1,2,3,4] only to run operator\"))\n",
    "if choice>4:\n",
    "    print(\"enter valid number between [1,2,3,4] only\")\n",
    "    choice = int(input(\"enter number between [1,2,3,4] only to run operator\"))   \n",
    "    \n",
    "try:\n",
    "    first_number=int(input(\"enter first number\"))\n",
    "    second_number=int(input(\"enter first number\"))\n",
    "\n",
    "    if choice==1:\n",
    "        print(first_number,\"+\",second_number,\"=\",add(first_number,second_number))\n",
    "    elif choice==2:\n",
    "        print(first_number,\"-\",second_number,\"=\",sub(first_number,second_number))\n",
    "    elif choice==3:\n",
    "        print(first_number,\"*\",second_number,\"=\",mul(first_number,second_number))\n",
    "    elif choice==4:\n",
    "        print(first_number,\"/\",second_number,\"=\",div(first_number,second_number))\n",
    "    else:\n",
    "        print(\"enter number between [1,2,3,4] only\")\n",
    "except ZeroDivisionError as msg:\n",
    "    print(\"zero division error please enter number with base 10 only\",msg)\n",
    "except ValueError as msg :\n",
    "    print(\"please enter only int value\",msg)\n",
    "else:    \n",
    "    print(\"process completed thanks for using our calculator\")"
   ]
  },
  {
   "cell_type": "code",
   "execution_count": 5,
   "id": "78cc9f1f",
   "metadata": {},
   "outputs": [
    {
     "name": "stdout",
     "output_type": "stream",
     "text": [
      "please enter only integers\n",
      "you are welcome\n"
     ]
    }
   ],
   "source": [
    "try:\n",
    "    x=10\n",
    "    y=ten\n",
    "    print(x/y)\n",
    "except NameError:\n",
    "    print(\"please enter only integers\")\n",
    "except :\n",
    "    print(\"i am default except block\")\n",
    "finally:\n",
    "    print(\"you are welcome\")"
   ]
  },
  {
   "cell_type": "code",
   "execution_count": 29,
   "id": "71f6781e",
   "metadata": {},
   "outputs": [
    {
     "name": "stdout",
     "output_type": "stream",
     "text": [
      "enter first valuee\n",
      "please enter valid number invalid literal for int() with base 10: 'e'\n"
     ]
    }
   ],
   "source": [
    "try:\n",
    "    x=int(input(\"enter first value\"))\n",
    "    y=int(input(\"enter second value\"))\n",
    "    print(x*y)\n",
    "except BaseException as msg:\n",
    "    print(\"please enter valid number\",msg)\n",
    "    "
   ]
  },
  {
   "cell_type": "code",
   "execution_count": 32,
   "id": "fad9ae6f",
   "metadata": {},
   "outputs": [
    {
     "name": "stdout",
     "output_type": "stream",
     "text": [
      "assertion expection raised\n"
     ]
    }
   ],
   "source": [
    "try:\n",
    "    a=100\n",
    "    b=\"datacamp\"\n",
    "    assert a==b\n",
    "except AssertionError:\n",
    "        print('assertion expection raised')\n",
    "else:\n",
    "            print(\"sucess,no error\")"
   ]
  }
 ],
 "metadata": {
  "kernelspec": {
   "display_name": "Python 3",
   "language": "python",
   "name": "python3"
  },
  "language_info": {
   "codemirror_mode": {
    "name": "ipython",
    "version": 3
   },
   "file_extension": ".py",
   "mimetype": "text/x-python",
   "name": "python",
   "nbconvert_exporter": "python",
   "pygments_lexer": "ipython3",
   "version": "3.6.7"
  }
 },
 "nbformat": 4,
 "nbformat_minor": 5
}
