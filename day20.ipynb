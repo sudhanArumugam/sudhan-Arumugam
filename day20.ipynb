{
 "cells": [
  {
   "cell_type": "code",
   "execution_count": 10,
   "id": "f9a1e32f",
   "metadata": {},
   "outputs": [],
   "source": [
    "import pandas as pd\n"
   ]
  },
  {
   "cell_type": "code",
   "execution_count": 28,
   "id": "b15ba230",
   "metadata": {},
   "outputs": [],
   "source": [
    "\n",
    "df = pd.DataFrame({'employe name':['sudhan','mohan','shalini','subash','jeeva'],\n",
    "                   'identity':[123,345,234,567,145],\n",
    "                   'salary':[30000,20000,18000,25000,10000]})"
   ]
  },
  {
   "cell_type": "code",
   "execution_count": 16,
   "id": "4a134451",
   "metadata": {},
   "outputs": [
    {
     "name": "stdout",
     "output_type": "stream",
     "text": [
      "  employe name  identity  salary\n",
      "0       sudhan       123   30000\n",
      "1        mohan       345   20000\n",
      "2      shalini       234   18000\n",
      "3       subash       567   25000\n",
      "4        jeeva       145   10000\n"
     ]
    }
   ],
   "source": [
    "print(df)"
   ]
  },
  {
   "cell_type": "code",
   "execution_count": 53,
   "id": "de7e5ad5",
   "metadata": {},
   "outputs": [
    {
     "name": "stdout",
     "output_type": "stream",
     "text": [
      "   Driver   id  salary\n",
      "2  sudhan  251   39000\n"
     ]
    }
   ],
   "source": [
    "import pandas as pd \n",
    "\n",
    "import numpy as np \n",
    "\n",
    "dict1 ={'Driver':['Hamilton', 'Vettel', 'sudhan', \n",
    "\n",
    "                  'hari', 'Bottas', 'Ricciardo', \n",
    "\n",
    "                  'harry', 'Perez',], \n",
    "\n",
    "                    \n",
    "\n",
    "        'id':[408, 320, 251, 249, 247, 170, 69, 62,], \n",
    "\n",
    "                     \n",
    "\n",
    "        'salary':[33000, 3100, 39000, 21000, 29000, 20009, 31000, 28000, ]} \n",
    "\n",
    "                        \n",
    " \n",
    "\n",
    "df = pd.DataFrame(dict1)\n",
    "print(df[df.salary == df.salary.max()])"
   ]
  },
  {
   "cell_type": "code",
   "execution_count": 54,
   "id": "057e77be",
   "metadata": {},
   "outputs": [
    {
     "name": "stdout",
     "output_type": "stream",
     "text": [
      "   Driver   id  salary\n",
      "1  Vettel  320    3100\n"
     ]
    }
   ],
   "source": [
    "import pandas as pd \n",
    "\n",
    "import numpy as np \n",
    "\n",
    "dict1 ={'Driver':['Hamilton', 'Vettel', 'sudhan', \n",
    "\n",
    "                  'hari', 'Bottas', 'Ricciardo', \n",
    "\n",
    "                  'harry', 'Perez',], \n",
    "\n",
    "                    \n",
    "\n",
    "        'id':[408, 320, 251, 249, 247, 170, 69, 62,], \n",
    "\n",
    "                     \n",
    "\n",
    "        'salary':[33000, 3100, 39000, 21000, 29000, 20009, 31000, 28000, ]} \n",
    "\n",
    "                        \n",
    " \n",
    "\n",
    "df = pd.DataFrame(dict1)\n",
    "print(df[df.salary == df.salary.min()])"
   ]
  },
  {
   "cell_type": "code",
   "execution_count": 62,
   "id": "87e55148",
   "metadata": {},
   "outputs": [
    {
     "name": "stdout",
     "output_type": "stream",
     "text": [
      "Empty DataFrame\n",
      "Columns: [employee, id, salary]\n",
      "Index: []\n"
     ]
    }
   ],
   "source": [
    "import pandas as pd \n",
    "\n",
    "import numpy as np \n",
    "\n",
    "dict1 ={'employee':['Hamilton', 'Vettel', 'sudhan', \n",
    "\n",
    "                  'hari', 'Bottas', 'Ricciardo', \n",
    "\n",
    "                  'harry', 'Perez',], \n",
    "\n",
    "                    \n",
    "\n",
    "        'id':[408, 320, 251, 249, 247, 170, 69, 62,], \n",
    "\n",
    "                     \n",
    "\n",
    "        'salary':[33000, 3100, 39000, 21000, 29000, 20009, 31000, 28000, ]} \n",
    "\n",
    "                        \n",
    " \n",
    "\n",
    "df = pd.DataFrame(dict1)\n",
    "print(df[df.employee == df.employee.count()])\n",
    "    "
   ]
  },
  {
   "cell_type": "code",
   "execution_count": 83,
   "id": "dd8ae07b",
   "metadata": {},
   "outputs": [
    {
     "name": "stdout",
     "output_type": "stream",
     "text": [
      "    employee   id  salary\n",
      "0   Hamilton  408   33000\n",
      "1     Vettel  320    3100\n",
      "2     sudhan  251   39000\n",
      "3       hari  249   21000\n",
      "4     Bottas  247   29000\n",
      "5  Ricciardo  170   20009\n",
      "6      harry   69   31000\n",
      "7      Perez   62   28000\n"
     ]
    }
   ],
   "source": [
    "import pandas as pd \n",
    "\n",
    "import numpy as np \n",
    "\n",
    "dict1 ={'employee':['Hamilton', 'Vettel', 'sudhan', \n",
    "\n",
    "                  'hari', 'Bottas', 'Ricciardo', \n",
    "\n",
    "                  'harry', 'Perez',], \n",
    "\n",
    "                    \n",
    "\n",
    "        'id':[408, 320, 251, 249, 247, 170, 69, 62,], \n",
    "\n",
    "                     \n",
    "\n",
    "        'salary':[33000, 3100, 39000, 21000, 29000, 20009, 31000, 28000, ]} \n",
    "\n",
    "                        \n",
    " \n",
    "\n",
    "df = pd.DataFrame(dict1)\n",
    "print(df[df.employee == df.employee])"
   ]
  }
 ],
 "metadata": {
  "kernelspec": {
   "display_name": "Python 3",
   "language": "python",
   "name": "python3"
  },
  "language_info": {
   "codemirror_mode": {
    "name": "ipython",
    "version": 3
   },
   "file_extension": ".py",
   "mimetype": "text/x-python",
   "name": "python",
   "nbconvert_exporter": "python",
   "pygments_lexer": "ipython3",
   "version": "3.6.7"
  }
 },
 "nbformat": 4,
 "nbformat_minor": 5
}
