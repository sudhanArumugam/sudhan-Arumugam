{
 "cells": [
  {
   "cell_type": "code",
   "execution_count": null,
   "id": "c7120734",
   "metadata": {},
   "outputs": [],
   "source": [
    "mydb = mysql.connector.connect(\n",
    "  host=\"localhost\",\n",
    " user=\"root\",\n",
    "  password=\"1234\",\n",
    "  database=\"Doctors1\"\n",
    ")\n",
    "dbse = mydb.cursor()\n",
    "\n",
    "dbse.execute(\"CREATE TABLE Doctors (dr_id VARCHAR(255), Patient_visited VARCHAR(255))"
   ]
  },
  {
   "cell_type": "code",
   "execution_count": null,
   "id": "b2ec7523",
   "metadata": {},
   "outputs": [],
   "source": [
    "dbse = mydb.cursor()\n",
    "\n",
    "sql = \"INSERT INTO Doctors (dr_id , Patient_visited) VALUES (%s,%s)\"\n",
    "val = [\n",
    "  ('DID1','10'),\n",
    "    ('DID2','3'),\n",
    "    ('DID3','8'),\n",
    "    ('DID5','0'),\n",
    "    ('DID123','15'),\n",
    "    ('DID26','9'),\n",
    "    ('DID78','0'),\n",
    "    ('DID65','0'),\n",
    "     ('DID23','15'),\n",
    "    ('DID262','9'),\n",
    "    ('DID783','0'),\n",
    "    ('DID651','0'), \n",
    "    ('DID13','19'),\n",
    "    ('DID267','7'),\n",
    "    ('DID8','0'),\n",
    "    ('DID59','0')    \n",
    "]\n",
    "\n",
    "dbse.executemany(sql, val)\n",
    "\n",
    "mydb.commit()\n",
    "\n",
    "print(dbse.rowcount, \"was inserted.\")"
   ]
  },
  {
   "cell_type": "code",
   "execution_count": null,
   "id": "35b13e01",
   "metadata": {},
   "outputs": [],
   "source": [
    "mycursor = mydb.cursor()\n",
    "\n",
    "mycursor.execute(\"SELECT * FROM Doctors where Patient_visited >5\")\n",
    "\n",
    "myresult = mycursor.fetchall()\n",
    "\n",
    "for x in myresult:\n",
    "  print(x)"
   ]
  },
  {
   "cell_type": "code",
   "execution_count": null,
   "id": "c4c94c7b",
   "metadata": {},
   "outputs": [],
   "source": [
    "mycursor = mydb.cursor()\n",
    "\n",
    "mycursor.execute(\"SELECT * FROM Doctors where Patient_visited=0\")\n",
    "\n",
    "myresult = mycursor.fetchall()\n",
    "\n",
    "for x in myresult:\n",
    "  print(x)"
   ]
  }
 ],
 "metadata": {
  "kernelspec": {
   "display_name": "Python 3",
   "language": "python",
   "name": "python3"
  },
  "language_info": {
   "codemirror_mode": {
    "name": "ipython",
    "version": 3
   },
   "file_extension": ".py",
   "mimetype": "text/x-python",
   "name": "python",
   "nbconvert_exporter": "python",
   "pygments_lexer": "ipython3",
   "version": "3.6.7"
  }
 },
 "nbformat": 4,
 "nbformat_minor": 5
}
