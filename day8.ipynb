{
 "cells": [
  {
   "cell_type": "code",
   "execution_count": 1,
   "id": "3b68abd5",
   "metadata": {},
   "outputs": [
    {
     "name": "stdout",
     "output_type": "stream",
     "text": [
      "{'a': 100, 'b': 200, 'c': 300, 'd': 400}\n"
     ]
    }
   ],
   "source": [
    "A={'a':100,'b':200}\n",
    "B={'c':300,'d':400}\n",
    "A.update(B)\n",
    "print(A)"
   ]
  },
  {
   "cell_type": "code",
   "execution_count": 63,
   "id": "ecaa4067",
   "metadata": {},
   "outputs": [
    {
     "name": "stdout",
     "output_type": "stream",
     "text": [
      "[100, 90, 60, 50, 40, 30, 20, 10] {100, 40, 10, 50, 20, 90, 60, 30}\n"
     ]
    }
   ],
   "source": [
    "List=[10,30,40,50,60,20,100,90]\n",
    "convert=set(List)\n",
    "A.sort(reverse=True)\n",
    "print(A,convert)"
   ]
  },
  {
   "cell_type": "code",
   "execution_count": 115,
   "id": "231bd6a4",
   "metadata": {},
   "outputs": [
    {
     "name": "stdout",
     "output_type": "stream",
     "text": [
      "['9', '8', '4', '3', '2', '1'] length 6\n"
     ]
    }
   ],
   "source": [
    "Alpha=['3','4','8','9','2','1']\n",
    "Alpha.sort(reverse=True)\n",
    "print(Alpha,'length',len(Alpha))"
   ]
  },
  {
   "cell_type": "code",
   "execution_count": 163,
   "id": "63853398",
   "metadata": {},
   "outputs": [
    {
     "name": "stdout",
     "output_type": "stream",
     "text": [
      "[2, 4, 4, 5, 6, 7, 8, 4]\n",
      "3\n"
     ]
    }
   ],
   "source": [
    "item =[2,4,4,5,6,7,8,4]\n",
    "print(item)\n",
    "count = item.count(4)\n",
    "print(count)"
   ]
  },
  {
   "cell_type": "code",
   "execution_count": 166,
   "id": "8beeb0c5",
   "metadata": {},
   "outputs": [
    {
     "name": "stdout",
     "output_type": "stream",
     "text": [
      "enter the number:5\n",
      "enter the number:6\n",
      "enter the number:7\n",
      "18\n",
      "enter the number divided by sum3\n",
      " the given input in divided \n"
     ]
    }
   ],
   "source": [
    "A=int(input(\"enter the number:\"))\n",
    "B=int(input(\"enter the number:\"))\n",
    "C=int(input(\"enter the number:\"))\n",
    "sum=A+B+C\n",
    "print(sum)\n",
    "user=int(input(\"enter the number divided by sum\"))\n",
    "if sum% user==0:\n",
    "    print( \" the given input in divided \")\n",
    "else :\n",
    "        print(\"the given input doesnot divided\")"
   ]
  },
  {
   "cell_type": "code",
   "execution_count": 177,
   "id": "a4cb59b6",
   "metadata": {},
   "outputs": [
    {
     "name": "stdout",
     "output_type": "stream",
     "text": [
      "python hello\n"
     ]
    }
   ],
   "source": [
    "A =\"hello\"\n",
    "B =\"python\"\n",
    "tep=A\n",
    "A=B\n",
    "B=tep\n",
    "print(A,B)"
   ]
  },
  {
   "cell_type": "code",
   "execution_count": 194,
   "id": "7806372c",
   "metadata": {},
   "outputs": [
    {
     "name": "stdout",
     "output_type": "stream",
     "text": [
      "enter the integer:55\n",
      "the decimal value of 55 is:\n",
      "0b110111\n",
      "0o67\n"
     ]
    }
   ],
   "source": [
    "dec =int(input(\"enter the integer:\"))\n",
    "print(\"the decimal value of\",dec,\"is:\")\n",
    "print(bin(dec))\n",
    "print(oct(dec))"
   ]
  }
 ],
 "metadata": {
  "kernelspec": {
   "display_name": "Python 3",
   "language": "python",
   "name": "python3"
  },
  "language_info": {
   "codemirror_mode": {
    "name": "ipython",
    "version": 3
   },
   "file_extension": ".py",
   "mimetype": "text/x-python",
   "name": "python",
   "nbconvert_exporter": "python",
   "pygments_lexer": "ipython3",
   "version": "3.6.7"
  }
 },
 "nbformat": 4,
 "nbformat_minor": 5
}
