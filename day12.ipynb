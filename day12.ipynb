{
 "cells": [
  {
   "cell_type": "code",
   "execution_count": 6,
   "id": "abd93197",
   "metadata": {},
   "outputs": [],
   "source": [
    "file =open(r\"30_days_30_hours_operations.txt\",\"w+\")\n",
    "file.write(\"I have completed 10 days sucessfully\")\n",
    "file.close()"
   ]
  },
  {
   "cell_type": "code",
   "execution_count": 3,
   "id": "9b9d7a9e",
   "metadata": {},
   "outputs": [],
   "source": [
    "f1 = open(r\"30_days_30_hours_operations.txt\",\"a+\")\n",
    "f1.writelines(\":sudhan arumugam\")\n"
   ]
  },
  {
   "cell_type": "code",
   "execution_count": 5,
   "id": "4ecc2d52",
   "metadata": {},
   "outputs": [
    {
     "name": "stdout",
     "output_type": "stream",
     "text": [
      "I have completed 10 days sucessfully:sudhan arumugam\n"
     ]
    }
   ],
   "source": [
    "f1 = open(r\"30_days_30_hours_operations.txt\",\"r\")\n",
    "print(f1.read())\n",
    "f1.close()\n"
   ]
  }
 ],
 "metadata": {
  "kernelspec": {
   "display_name": "Python 3",
   "language": "python",
   "name": "python3"
  },
  "language_info": {
   "codemirror_mode": {
    "name": "ipython",
    "version": 3
   },
   "file_extension": ".py",
   "mimetype": "text/x-python",
   "name": "python",
   "nbconvert_exporter": "python",
   "pygments_lexer": "ipython3",
   "version": "3.6.7"
  }
 },
 "nbformat": 4,
 "nbformat_minor": 5
}
