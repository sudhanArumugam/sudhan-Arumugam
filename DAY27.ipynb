{
 "cells": [
  {
   "cell_type": "code",
   "execution_count": null,
   "id": "ca624bd4",
   "metadata": {},
   "outputs": [],
   "source": [
    "import requests\n",
    "import bs4\n",
    "import pandas as pd\n",
    "\n",
    "\n",
    "url = 'https://www.worldometers.info/coronavirus/country/india/'\n",
    "result = requests.get(url)\n",
    "\n",
    "soup = bs4.BeautifulSoup(result.text,'html.parser')\n",
    "\n",
    "cases = soup.find_all('div' ,class_= 'maincounter-number')\n",
    "\n",
    "data = []\n",
    "\n",
    "for i in cases:\n",
    "    span = i.find('span')\n",
    "    data.append(span.string)\n",
    "print(data)\n",
    "\n",
    "df = pd.DataFrame({\"CoronaData\": data})\n",
    "df.index = ['TotalCases', ' Deaths', 'Recovered']\n",
    "\n",
    "df.to_excel('Corona_Data.xls')"
   ]
  }
 ],
 "metadata": {
  "kernelspec": {
   "display_name": "Python 3",
   "language": "python",
   "name": "python3"
  },
  "language_info": {
   "codemirror_mode": {
    "name": "ipython",
    "version": 3
   },
   "file_extension": ".py",
   "mimetype": "text/x-python",
   "name": "python",
   "nbconvert_exporter": "python",
   "pygments_lexer": "ipython3",
   "version": "3.6.7"
  }
 },
 "nbformat": 4,
 "nbformat_minor": 5
}
