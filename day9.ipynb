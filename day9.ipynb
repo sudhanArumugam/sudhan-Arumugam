{
 "cells": [
  {
   "cell_type": "code",
   "execution_count": 7,
   "id": "25420eea",
   "metadata": {},
   "outputs": [
    {
     "name": "stdout",
     "output_type": "stream",
     "text": [
      "[3]\n",
      "[3, 4]\n",
      "[3, 4, 5]\n",
      "[3, 4, 5, 6]\n",
      "[3, 4, 5, 6, 7]\n",
      "[3, 4, 5, 6, 7, 8]\n",
      "[3, 4, 5, 6, 7, 8, 9]\n",
      "[3, 4, 5, 6, 7, 8, 9, 10]\n",
      "[3, 4, 5, 6, 7, 8, 9, 10, 11]\n"
     ]
    }
   ],
   "source": [
    "L1=[1,2,3,4,5,6,7,8,9]\n",
    "L =[]\n",
    "for i in L1:\n",
    "    L.append(i+2)\n",
    "    print(L)\n",
    "    "
   ]
  },
  {
   "cell_type": "code",
   "execution_count": 12,
   "id": "33f0d321",
   "metadata": {},
   "outputs": [
    {
     "name": "stdout",
     "output_type": "stream",
     "text": [
      "987654321\n",
      "87654321\n",
      "7654321\n",
      "654321\n",
      "54321\n",
      "4321\n",
      "321\n",
      "21\n",
      "1\n"
     ]
    }
   ],
   "source": [
    "X=int(5)\n",
    "for i in range(n):\n",
    "df    print(''.join(map(str,range(n-i,0,-1))))"
   ]
  },
  {
   "cell_type": "code",
   "execution_count": 58,
   "id": "8cd9fa47",
   "metadata": {},
   "outputs": [
    {
     "name": "stdout",
     "output_type": "stream",
     "text": [
      "enter a number:10\n",
      "0\n",
      "1\n",
      "3\n",
      "5\n",
      "8\n",
      "13\n",
      "21\n",
      "34\n",
      "55\n",
      "89\n"
     ]
    }
   ],
   "source": [
    "a = 0\n",
    "b = 1\n",
    "num =int(input(\"enter a number:\"))\n",
    "print(a)\n",
    "print(b)\n",
    "for i in range(2, num):\n",
    "    a = b\n",
    "    b = c\n",
    "    c = a + b\n",
    "    print(c)"
   ]
  },
  {
   "cell_type": "code",
   "execution_count": 63,
   "id": "55312395",
   "metadata": {},
   "outputs": [
    {
     "name": "stdout",
     "output_type": "stream",
     "text": [
      "enter the value5\n",
      "5 is not amrstrong\n"
     ]
    }
   ],
   "source": [
    "num=int(input(\"enter the value\"))\n",
    "X=0\n",
    "temp =num\n",
    "while temp >0:\n",
    "    digit = temp%10\n",
    "    X +=digit**3\n",
    "    temp//=10\n",
    "    if num == X:\n",
    "        print(num,\"is amrstrong\")\n",
    "    else:\n",
    "        print(num,\"is not amrstrong\")"
   ]
  },
  {
   "cell_type": "code",
   "execution_count": 80,
   "id": "dca3caa1",
   "metadata": {},
   "outputs": [
    {
     "name": "stdout",
     "output_type": "stream",
     "text": [
      "9 x 1 = 9\n",
      "9 x 2 = 18\n",
      "9 x 3 = 27\n",
      "9 x 4 = 36\n",
      "9 x 5 = 45\n",
      "9 x 6 = 54\n",
      "9 x 7 = 63\n",
      "9 x 8 = 72\n",
      "9 x 9 = 81\n",
      "9 x 10 = 90\n"
     ]
    }
   ],
   "source": [
    "num =9\n",
    "for i in range(1,10+1\n",
    "              ):\n",
    "    print(num,'x',i,'=',num*i)"
   ]
  },
  {
   "cell_type": "code",
   "execution_count": 86,
   "id": "ecb43984",
   "metadata": {},
   "outputs": [
    {
     "name": "stdout",
     "output_type": "stream",
     "text": [
      "number is negative\n"
     ]
    }
   ],
   "source": [
    "value=int(-2)\n",
    "if value > 0:\n",
    "    print(\"number is positive\")\n",
    "elif value < 0:\n",
    "     print(\"number is negative\")\n",
    "else:\n",
    " print(\"neither positive nor negative\")"
   ]
  },
  {
   "cell_type": "code",
   "execution_count": 97,
   "id": "faa62b46",
   "metadata": {},
   "outputs": [
    {
     "name": "stdout",
     "output_type": "stream",
     "text": [
      "calculator\n",
      "1.Add\n",
      "2.substract\n",
      "3.multiply\n",
      "4.divided\n",
      "enter choice(1-4):1\n",
      "enter A:40\n",
      "enter B:40\n",
      "sum= 80\n"
     ]
    }
   ],
   "source": [
    "print(\"calculator\")\n",
    "print(\"1.Add\")\n",
    "print(\"2.substract\")\n",
    "print(\"3.multiply\")\n",
    "print(\"4.divided\")\n",
    "ch=int(input(\"enter choice(1-4):\"))\n",
    "if ch==1:\n",
    "    a=int(input(\"enter A:\"))\n",
    "    b=int(input(\"enter B:\"))\n",
    "    c=a+b\n",
    "    print(\"sum=\",c)\n",
    "elif ch==2:\n",
    "    a=int(input(\"enter A:\"))\n",
    "    b=int(input(\"enter B:\"))\n",
    "    c=a-b\n",
    "    print(\"sum=\",c)\n",
    "elif ch==3:\n",
    "    a=int(input(\"enter A:\"))\n",
    "    b=int(input(\"enter B:\"))\n",
    "    c=a*b\n",
    "    print(\"sum=\",c)\n",
    "elif ch==4:\n",
    "    a=int(input(\"enter A:\"))\n",
    "    b=int(input(\"enter B:\"))\n",
    "    c=a/b\n",
    "    print(\"sum=\",c)\n",
    "else:\n",
    "    print(\"invalid choise\")\n",
    "            "
   ]
  },
  {
   "cell_type": "code",
   "execution_count": null,
   "id": "3dddabf9",
   "metadata": {},
   "outputs": [],
   "source": []
  }
 ],
 "metadata": {
  "kernelspec": {
   "display_name": "Python 3",
   "language": "python",
   "name": "python3"
  },
  "language_info": {
   "codemirror_mode": {
    "name": "ipython",
    "version": 3
   },
   "file_extension": ".py",
   "mimetype": "text/x-python",
   "name": "python",
   "nbconvert_exporter": "python",
   "pygments_lexer": "ipython3",
   "version": "3.6.7"
  }
 },
 "nbformat": 4,
 "nbformat_minor": 5
}
