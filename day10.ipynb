{
 "cells": [
  {
   "cell_type": "code",
   "execution_count": 12,
   "id": "35431386",
   "metadata": {},
   "outputs": [],
   "source": [
    "class BankAccount:\n",
    "    def inti (self):\n",
    "        self.balance=0\n",
    "        print(\"hello welcome to deposite and withdrawal\")\n",
    "        def display(self):\n",
    "            print(\"avilable balance=\",self.balance)\n",
    "class deposit(BankAccount):\n",
    "    def deposit(self):\n",
    "        amount=float(input(\"enter the amount to be deposited:\"))\n",
    "        self.balance+=amount\n",
    "        print(\"amount deposited:\",amount)\n",
    "class withdraw(BankAccount):\n",
    "    def withdraw(self):\n",
    "        amount=float(input(\"enter the amount to be withdraw:\"))\n",
    "        if self.balance>=amount:\n",
    "            self.balance-=amount\n",
    "            print(\"you withdraw:\",amount)\n",
    "        else:\n",
    "            print(\"insufficient balance\")\n",
    "                "
   ]
  },
  {
   "cell_type": "code",
   "execution_count": null,
   "id": "e24e35b6",
   "metadata": {},
   "outputs": [],
   "source": []
  }
 ],
 "metadata": {
  "kernelspec": {
   "display_name": "Python 3",
   "language": "python",
   "name": "python3"
  },
  "language_info": {
   "codemirror_mode": {
    "name": "ipython",
    "version": 3
   },
   "file_extension": ".py",
   "mimetype": "text/x-python",
   "name": "python",
   "nbconvert_exporter": "python",
   "pygments_lexer": "ipython3",
   "version": "3.6.7"
  }
 },
 "nbformat": 4,
 "nbformat_minor": 5
}
