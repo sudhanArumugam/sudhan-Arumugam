{
 "cells": [
  {
   "cell_type": "code",
   "execution_count": 1,
   "id": "902de0c9",
   "metadata": {},
   "outputs": [
    {
     "name": "stdout",
     "output_type": "stream",
     "text": [
      "thirty\n"
     ]
    }
   ],
   "source": [
    "hours = \"thirty\"\n",
    "print(hours)"
   ]
  },
  {
   "cell_type": "code",
   "execution_count": 3,
   "id": "aba68d90",
   "metadata": {},
   "outputs": [
    {
     "name": "stdout",
     "output_type": "stream",
     "text": [
      "h\n"
     ]
    }
   ],
   "source": [
    "Days = \"thirty days\"\n",
    "print(Days[1])"
   ]
  },
  {
   "cell_type": "code",
   "execution_count": 55,
   "id": "5535be60",
   "metadata": {},
   "outputs": [
    {
     "name": "stdout",
     "output_type": "stream",
     "text": [
      " WIN\n"
     ]
    }
   ],
   "source": [
    "challenge = \"I WILL WIN\"\n",
    "print(challenge[6:10])"
   ]
  },
  {
   "cell_type": "code",
   "execution_count": 54,
   "id": "9aba651a",
   "metadata": {},
   "outputs": [
    {
     "name": "stdout",
     "output_type": "stream",
     "text": [
      "10\n"
     ]
    }
   ],
   "source": [
    "challenge = \"I WILL WIN\"\n",
    "print(len(challenge))"
   ]
  },
  {
   "cell_type": "code",
   "execution_count": 28,
   "id": "23a75851",
   "metadata": {},
   "outputs": [
    {
     "name": "stdout",
     "output_type": "stream",
     "text": [
      "i will win\n"
     ]
    }
   ],
   "source": [
    "challenge = \"I WILL WIN\"\n",
    "print(challenge.lower())"
   ]
  },
  {
   "cell_type": "code",
   "execution_count": 31,
   "id": "35d1fe95",
   "metadata": {},
   "outputs": [
    {
     "name": "stdout",
     "output_type": "stream",
     "text": [
      " 30 days 30 hours\n"
     ]
    }
   ],
   "source": [
    "a= \" 30 days\"\n",
    "b= \" 30 hours\"\n",
    "c= a+b\n",
    "print(c)"
   ]
  },
  {
   "cell_type": "code",
   "execution_count": 37,
   "id": "7a87338a",
   "metadata": {},
   "outputs": [
    {
     "name": "stdout",
     "output_type": "stream",
     "text": [
      "30 days 30 hours\n"
     ]
    }
   ],
   "source": [
    "a= \"30 days\"\n",
    "b= \"30 hours\"\n",
    "c= a+ \" \" +b\n",
    "print(c)"
   ]
  },
  {
   "cell_type": "code",
   "execution_count": 47,
   "id": "fa75532d",
   "metadata": {},
   "outputs": [
    {
     "name": "stdout",
     "output_type": "stream",
     "text": [
      "thirty days and thirty hours\n"
     ]
    }
   ],
   "source": [
    "text = \"thirty days and thirty hours\"\n",
    "x = text.casefold()\n",
    "print(x)"
   ]
  },
  {
   "cell_type": "code",
   "execution_count": 48,
   "id": "d014664a",
   "metadata": {},
   "outputs": [
    {
     "name": "stdout",
     "output_type": "stream",
     "text": [
      "Thirty days and thirty hours\n"
     ]
    }
   ],
   "source": [
    "text = \"thirty days and thirty hours\"\n",
    "x = text.capitalize()\n",
    "print(x)"
   ]
  },
  {
   "cell_type": "code",
   "execution_count": 52,
   "id": "6d60fd63",
   "metadata": {},
   "outputs": [
    {
     "name": "stdout",
     "output_type": "stream",
     "text": [
      "False\n"
     ]
    }
   ],
   "source": [
    "text = \"thirty days and thirty hours\"\n",
    "x = text.isalpha()\n",
    "print(x)"
   ]
  },
  {
   "cell_type": "code",
   "execution_count": 53,
   "id": "a77ca361",
   "metadata": {},
   "outputs": [
    {
     "name": "stdout",
     "output_type": "stream",
     "text": [
      "False\n"
     ]
    }
   ],
   "source": [
    "text = \"thirty days and thirty hours\"\n",
    "x = text.isalnum()\n",
    "print(x)"
   ]
  },
  {
   "cell_type": "code",
   "execution_count": 63,
   "id": "678bd045",
   "metadata": {},
   "outputs": [
    {
     "name": "stdout",
     "output_type": "stream",
     "text": [
      "8\n"
     ]
    }
   ],
   "source": [
    "text = \"thirty days and thirty hours\"\n",
    "x = text.find(\"a\")\n",
    "print(x)"
   ]
  },
  {
   "cell_type": "code",
   "execution_count": 63,
   "id": "18355de1",
   "metadata": {},
   "outputs": [
    {
     "name": "stdout",
     "output_type": "stream",
     "text": [
      "8\n"
     ]
    }
   ],
   "source": [
    "text = \"thirty days and thirty hours\"\n",
    "x = text.find(\"a\")\n",
    "print(x)"
   ]
  }
 ],
 "metadata": {
  "kernelspec": {
   "display_name": "Python 3",
   "language": "python",
   "name": "python3"
  },
  "language_info": {
   "codemirror_mode": {
    "name": "ipython",
    "version": 3
   },
   "file_extension": ".py",
   "mimetype": "text/x-python",
   "name": "python",
   "nbconvert_exporter": "python",
   "pygments_lexer": "ipython3",
   "version": "3.6.7"
  }
 },
 "nbformat": 4,
 "nbformat_minor": 5
}
