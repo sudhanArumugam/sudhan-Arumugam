{
 "cells": [
  {
   "cell_type": "code",
   "execution_count": 63,
   "id": "f53eabf3",
   "metadata": {},
   "outputs": [
    {
     "name": "stdout",
     "output_type": "stream",
     "text": [
      "True\n",
      "False\n"
     ]
    }
   ],
   "source": [
    "import re\n",
    "def allowed_char(string):\n",
    "    allow=re.compile(r'[^a-zA-Z0-9]')\n",
    "    string=allow.search(string)\n",
    "    return not bool(string)\n",
    "print(allowed_char(\"AZET123343\"))\n",
    "print(allowed_char(\"&é§è!()()\"))"
   ]
  },
  {
   "cell_type": "code",
   "execution_count": 196,
   "id": "19f190e4",
   "metadata": {},
   "outputs": [
    {
     "name": "stdout",
     "output_type": "stream",
     "text": [
      "found\n",
      "not found\n"
     ]
    }
   ],
   "source": [
    "def letter(alpha):\n",
    "        pattern = '\\w*ab\\w*'\n",
    "        if re.search(pattern,alpha):\n",
    "            print('found')\n",
    "        else:\n",
    "            print('not found')\n",
    "letter(\"ababababababababab\")\n",
    "letter(\"hello python\")"
   ]
  },
  {
   "cell_type": "code",
   "execution_count": 199,
   "id": "515fd90d",
   "metadata": {},
   "outputs": [
    {
     "name": "stdout",
     "output_type": "stream",
     "text": [
      "False\n",
      "True\n"
     ]
    }
   ],
   "source": [
    "def number(string):\n",
    "    text=re.compile(r'.*[0-9]$')\n",
    "    if text.match(string):\n",
    "        return True\n",
    "    else:\n",
    "        return False\n",
    "print(number('AAaaBBBhhghh'))\n",
    "print(number('123455678'))"
   ]
  },
  {
   "cell_type": "code",
   "execution_count": 206,
   "id": "a8da0c66",
   "metadata": {},
   "outputs": [
    {
     "name": "stdout",
     "output_type": "stream",
     "text": [
      "number of length\n",
      "1\n",
      "9\n",
      "11\n",
      "300\n"
     ]
    }
   ],
   "source": [
    "import re\n",
    "result = re.finditer(r'[0-9]{1,3}','1,9,11 and 300')\n",
    "print('number of length')\n",
    "for n in result:\n",
    "    print(n.group(0))"
   ]
  },
  {
   "cell_type": "code",
   "execution_count": 243,
   "id": "7ab23b4b",
   "metadata": {},
   "outputs": [
    {
     "name": "stdout",
     "output_type": "stream",
     "text": [
      "found match\n",
      "not found\n"
     ]
    }
   ],
   "source": [
    "def match(text):\n",
    "    pattern = '^[a-zA-Z-9_]*$'\n",
    "    if re.search(pattern,text):\n",
    "       print(\"found match\")\n",
    "    else:\n",
    "        print('not found')\n",
    "match(\"PYTHON\")\n",
    "match(\"Hell11\")\n",
    "    "
   ]
  },
  {
   "cell_type": "code",
   "execution_count": null,
   "id": "6ee5dede",
   "metadata": {},
   "outputs": [],
   "source": []
  }
 ],
 "metadata": {
  "kernelspec": {
   "display_name": "Python 3",
   "language": "python",
   "name": "python3"
  },
  "language_info": {
   "codemirror_mode": {
    "name": "ipython",
    "version": 3
   },
   "file_extension": ".py",
   "mimetype": "text/x-python",
   "name": "python",
   "nbconvert_exporter": "python",
   "pygments_lexer": "ipython3",
   "version": "3.6.7"
  }
 },
 "nbformat": 4,
 "nbformat_minor": 5
}
