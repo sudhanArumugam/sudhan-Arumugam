{
 "cells": [
  {
   "cell_type": "code",
   "execution_count": 2,
   "id": "4a513465",
   "metadata": {},
   "outputs": [
    {
     "name": "stdout",
     "output_type": "stream",
     "text": [
      "40\n"
     ]
    }
   ],
   "source": [
    "S = lambda x, y : x * y\n",
    "print(S(10, 4))\n"
   ]
  },
  {
   "cell_type": "code",
   "execution_count": 5,
   "id": "31955398",
   "metadata": {},
   "outputs": [
    {
     "name": "stdout",
     "output_type": "stream",
     "text": [
      "[0, 1, 1, 2, 3, 5, 8, 13, 21, 34, 55]\n"
     ]
    }
   ],
   "source": [
    "from functools import reduce\n",
    "  \n",
    "fib = lambda n: reduce(lambda x, _: x+[x[-1]+x[-2]],\n",
    "range(n-2), [0, 1])\n",
    "  \n",
    "print(fib(11))"
   ]
  },
  {
   "cell_type": "code",
   "execution_count": 7,
   "id": "fe01f62a",
   "metadata": {},
   "outputs": [
    {
     "name": "stdout",
     "output_type": "stream",
     "text": [
      "Original list:  [2, 4, 6, 9, 11]\n",
      "Given number:  2\n",
      "Result:\n",
      "4 8 12 18 22\n"
     ]
    }
   ],
   "source": [
    "num = [2, 4, 6, 9 , 11]\n",
    "n = 2\n",
    "print(\"Original list: \", nums)\n",
    "print(\"Given number: \", n)\n",
    "filtered_numbers=list(map(lambda number:number*n,nums))\n",
    "print(\"Result:\")\n",
    "print(' '.join(map(str,filtered_numbers)))"
   ]
  },
  {
   "cell_type": "code",
   "execution_count": 8,
   "id": "f2443b5e",
   "metadata": {},
   "outputs": [
    {
     "name": "stdout",
     "output_type": "stream",
     "text": [
      "[2, 4, 5, 6, 7, 8, 9, 21, 12, 14, 15, 27, 36, 81]\n",
      "Result\n",
      "False False False False False False True False False False False True True True\n",
      "Result\n",
      "9 27 36 81\n"
     ]
    }
   ],
   "source": [
    "list1=[2,4,5,6,7,8,9,21,12,14,15,27,36,81]\n",
    "print(list1)\n",
    "list2=list(map(lambda j:j%9==0,list1))\n",
    "print(\"Result\")\n",
    "print(' '.join(map(str,list2)))\n",
    "list2=list(filter(lambda j:j%9==0,list1))\n",
    "print(\"Result\")\n",
    "print(' '.join(map(str,list2)))"
   ]
  },
  {
   "cell_type": "code",
   "execution_count": 10,
   "id": "9cce10d6",
   "metadata": {},
   "outputs": [
    {
     "name": "stdout",
     "output_type": "stream",
     "text": [
      "[2, 4, 5, 6, 7, 8, 9, 21, 12, 14, 15, 27, 36, 81]\n",
      "Result :\n",
      "7\n"
     ]
    }
   ],
   "source": [
    "first =[2,4,5,6,7,8,9,21,12,14,15,27,36,81]\n",
    "print(first)\n",
    "second =list(filter(lambda j:j%2==0,list1))\n",
    "print(\"Result :\")\n",
    "print(len(second))\n"
   ]
  }
 ],
 "metadata": {
  "kernelspec": {
   "display_name": "Python 3",
   "language": "python",
   "name": "python3"
  },
  "language_info": {
   "codemirror_mode": {
    "name": "ipython",
    "version": 3
   },
   "file_extension": ".py",
   "mimetype": "text/x-python",
   "name": "python",
   "nbconvert_exporter": "python",
   "pygments_lexer": "ipython3",
   "version": "3.6.7"
  }
 },
 "nbformat": 4,
 "nbformat_minor": 5
}
