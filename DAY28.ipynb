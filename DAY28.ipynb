{
 "cells": [
  {
   "cell_type": "code",
   "execution_count": 21,
   "id": "d0a5b9f5",
   "metadata": {},
   "outputs": [
    {
     "name": "stdout",
     "output_type": "stream",
     "text": [
      "2021-07-13 17:13:52.626774\n",
      "2021-07-13 17:13:52.632197\n",
      "\n",
      "number of active threads :  7\n"
     ]
    }
   ],
   "source": [
    "from threading import* \n",
    "from time import *\n",
    "from datetime import date,datetime\n",
    "\n",
    "class t1(Thread):\n",
    "    def run(self):\n",
    "        print(datetime.today())\n",
    "        sleep(1)\n",
    "\n",
    "class t2(Thread):\n",
    "    def run(self):\n",
    "        print(datetime.today())\n",
    "        sleep(2)\n",
    "\n",
    "\n",
    "a = t1()\n",
    "a.start()\n",
    "b=t2()\n",
    "b.start()\n",
    "print(\"\\nnumber of active threads : \",active_count())"
   ]
  }
 ],
 "metadata": {
  "kernelspec": {
   "display_name": "Python 3",
   "language": "python",
   "name": "python3"
  },
  "language_info": {
   "codemirror_mode": {
    "name": "ipython",
    "version": 3
   },
   "file_extension": ".py",
   "mimetype": "text/x-python",
   "name": "python",
   "nbconvert_exporter": "python",
   "pygments_lexer": "ipython3",
   "version": "3.6.7"
  }
 },
 "nbformat": 4,
 "nbformat_minor": 5
}
