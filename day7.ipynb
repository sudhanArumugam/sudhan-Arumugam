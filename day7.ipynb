{
 "cells": [
  {
   "cell_type": "code",
   "execution_count": 4,
   "id": "5f74befc",
   "metadata": {},
   "outputs": [
    {
     "name": "stdout",
     "output_type": "stream",
     "text": [
      "enter the first number45\n",
      "enter the second number6\n",
      "addition of two number is 51\n",
      "subraction of two number is 39\n",
      "multiplication of two number is 270\n",
      "division of two number is 7.5\n"
     ]
    }
   ],
   "source": [
    "def number():\n",
    "    x=int(input(\"enter the first number\"))\n",
    "    y=int(input(\"enter the second number\"))\n",
    "    print(\"addition of two number is\",x+y)\n",
    "    print(\"subraction of two number is\",x-y)\n",
    "    print(\"multiplication of two number is\",x*y)\n",
    "    print(\"division of two number is\",x/y)\n",
    "    \n",
    "    \n",
    "number()"
   ]
  },
  {
   "cell_type": "code",
   "execution_count": 26,
   "id": "ae5db0e8",
   "metadata": {},
   "outputs": [
    {
     "name": "stdout",
     "output_type": "stream",
     "text": [
      "patient name is  harry body temperature is 98\n",
      "patient name is  tin body temperature is 99\n"
     ]
    }
   ],
   "source": [
    "def covid(patient_name,body_temperature):\n",
    "    if body_temperature < str(0) :\n",
    "        default=str(98)\n",
    "        print(\"patient name is \",patient_name,\"body temperature is\",default)\n",
    "    else:\n",
    "        print(\"patient name is \",patient_name,\"body temperature is\",body_temperature)\n",
    "        \n",
    "covid(\"harry\",\"\")\n",
    "covid(\"tin\",\"99\")\n",
    "    "
   ]
  },
  {
   "cell_type": "code",
   "execution_count": null,
   "id": "c4861e20",
   "metadata": {},
   "outputs": [],
   "source": []
  }
 ],
 "metadata": {
  "kernelspec": {
   "display_name": "Python 3",
   "language": "python",
   "name": "python3"
  },
  "language_info": {
   "codemirror_mode": {
    "name": "ipython",
    "version": 3
   },
   "file_extension": ".py",
   "mimetype": "text/x-python",
   "name": "python",
   "nbconvert_exporter": "python",
   "pygments_lexer": "ipython3",
   "version": "3.6.7"
  }
 },
 "nbformat": 4,
 "nbformat_minor": 5
}
